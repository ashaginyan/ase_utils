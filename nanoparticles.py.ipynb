{
 "cells": [
  {
   "cell_type": "code",
   "execution_count": 1,
   "metadata": {},
   "outputs": [],
   "source": [
    "from ase import Atoms\n",
    "from ase.calculators.emt import EMT\n",
    "import numpy as np\n",
    "import pandas as pd\n",
    "import os\n",
    "import ase\n",
    "from ase.cluster.cubic import FaceCenteredCubic\n",
    "from ase.visualize import view\n",
    "import utils"
   ]
  },
  {
   "cell_type": "code",
   "execution_count": 19,
   "metadata": {},
   "outputs": [],
   "source": [
    "from ase import Atoms\n",
    "d = 1.1\n",
    "co = Atoms('CO', positions=[(0, 0, 0), (0, 0, d)])\n",
    "view(co)"
   ]
  },
  {
   "cell_type": "code",
   "execution_count": 20,
   "metadata": {},
   "outputs": [],
   "source": [
    "surfaces = [(1, 0, 0), (1, 1, 0), (1, 1, 1)]\n",
    "layers = [6, 9, 5]\n",
    "lc = 3.61000\n",
    "atoms = FaceCenteredCubic('Cu', surfaces, layers, latticeconstant=lc)\n",
    "view(atoms)"
   ]
  },
  {
   "cell_type": "code",
   "execution_count": 2,
   "metadata": {},
   "outputs": [],
   "source": [
    "surfaces = [(1, 0, 0), (1, 1, 0), (1, 1, 1)]\n",
    "layers = [50, 50, 50]\n",
    "lc = 3.61000\n",
    "atomsCu = FaceCenteredCubic('Cu', surfaces, layers, latticeconstant=lc)"
   ]
  },
  {
   "cell_type": "code",
   "execution_count": 3,
   "metadata": {},
   "outputs": [],
   "source": [
    "possCu = atomsCu.get_positions()\n",
    "cCu = atomsCu.get_center_of_mass()"
   ]
  },
  {
   "cell_type": "code",
   "execution_count": 4,
   "metadata": {},
   "outputs": [],
   "source": [
    "new_possCu = []\n",
    "for el in possCu:\n",
    "    new_possCu.append(el - cCu)\n",
    "new_possCu = np.array(new_possCu)"
   ]
  },
  {
   "cell_type": "code",
   "execution_count": 7,
   "metadata": {},
   "outputs": [],
   "source": [
    "r = 5\n",
    "possCu = utils.cut_atoms(new_possCu, r)\n",
    "atoms = Atoms('Cu'+str(len(possCu)), positions=possCu)\n",
    "view(atoms)"
   ]
  },
  {
   "cell_type": "code",
   "execution_count": 8,
   "metadata": {},
   "outputs": [],
   "source": [
    "lc_ag = 4.09\n",
    "atomsAg = FaceCenteredCubic('Ag', surfaces, layers, latticeconstant=lc_ag)"
   ]
  },
  {
   "cell_type": "code",
   "execution_count": 9,
   "metadata": {},
   "outputs": [],
   "source": [
    "possAg = atomsAg.get_positions()\n",
    "cAg = atomsAg.get_center_of_mass()"
   ]
  },
  {
   "cell_type": "code",
   "execution_count": 10,
   "metadata": {},
   "outputs": [],
   "source": [
    "new_possAg = []\n",
    "for el in possAg:\n",
    "    new_possAg.append(el - cAg)\n",
    "new_possAg = np.array(new_possAg)"
   ]
  },
  {
   "cell_type": "code",
   "execution_count": 12,
   "metadata": {},
   "outputs": [],
   "source": [
    "r = 3\n",
    "possAg = utils.cut_atoms(new_possAg, r)\n",
    "atoms = Atoms('Ag'+str(len(possAg)), positions=possAg)\n",
    "view(atoms)"
   ]
  },
  {
   "cell_type": "code",
   "execution_count": 22,
   "metadata": {},
   "outputs": [],
   "source": [
    "r1 = 7\n",
    "r2 = 5\n",
    "possAg = utils.cut_atoms(new_possAg, r1)\n",
    "atoms = Atoms('Ag'+str(len(possAg)), positions=possAg)\n",
    "\n",
    "possAg = utils.cut_atoms_inside(possAg, r2)\n",
    "possCu = utils.cut_atoms(new_possCu, r2)\n",
    "poss = np.vstack([possCu, possAg])\n",
    "\n",
    "atoms = Atoms('Cu'+str(len(possCu))+'Ag'+str(len(possAg)), positions=poss)\n",
    "view(atoms)"
   ]
  },
  {
   "cell_type": "code",
   "execution_count": 23,
   "metadata": {},
   "outputs": [],
   "source": [
    "atoms.write('Cu'+str(r1)+'Ag'+str(r1-r2)+'.xyz')"
   ]
  },
  {
   "cell_type": "code",
   "execution_count": null,
   "metadata": {},
   "outputs": [],
   "source": []
  }
 ],
 "metadata": {
  "kernelspec": {
   "display_name": "Python 3",
   "language": "python",
   "name": "python3"
  },
  "language_info": {
   "codemirror_mode": {
    "name": "ipython",
    "version": 3
   },
   "file_extension": ".py",
   "mimetype": "text/x-python",
   "name": "python",
   "nbconvert_exporter": "python",
   "pygments_lexer": "ipython3",
   "version": "3.6.9"
  }
 },
 "nbformat": 4,
 "nbformat_minor": 4
}
